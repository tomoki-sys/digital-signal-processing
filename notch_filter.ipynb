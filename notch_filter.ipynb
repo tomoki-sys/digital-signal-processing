{
 "cells": [
  {
   "cell_type": "code",
   "execution_count": 56,
   "metadata": {},
   "outputs": [],
   "source": [
    "import numpy as np\n",
    "import matplotlib.pyplot as plt\n",
    "import pandas as pd\n"
   ]
  },
  {
   "cell_type": "code",
   "execution_count": 57,
   "metadata": {},
   "outputs": [],
   "source": [
    "#ノッチの幅\n",
    "xi=0.1\n",
    "\n",
    "#ノッチの深さ\n",
    "d=0.1\n",
    "\n",
    "fn=1000\n",
    "\n",
    "#サンプリング周波数\n",
    "T=1/8000\n",
    "\n",
    "\n",
    "#中心周波数\n",
    "wn=2*np.pi*fn\n",
    "\n",
    "#プリワーピング\n",
    "wn=(2/T)*np.tan(wn*T/2)\n",
    "\n",
    "\n"
   ]
  },
  {
   "cell_type": "code",
   "execution_count": 67,
   "metadata": {},
   "outputs": [
    {
     "name": "stdout",
     "output_type": "stream",
     "text": [
      "N2:1.163288604006348\n",
      "N1:-1.6568542494923801\n",
      "N0:1.179857146501272\n",
      "D2:1.0887301627791908\n",
      "D1:-1.6568542494923801\n",
      "D0:1.2544155877284289\n"
     ]
    }
   ],
   "source": [
    "N2=1-(T*wn/2)*d*2*xi+(T*wn/2)**2\n",
    "N1=2*(T*wn/2)**2-2\n",
    "N0=1+(T*wn/2)*d*2*xi+(T*wn/2)**2\n",
    "D2=1-(T*wn/2)*2*xi+(T*wn/2)**2\n",
    "D1=2*(T*wn/2)**2-2\n",
    "D0=1+(T*wn/2)*2*xi+(T*wn/2)**2\n",
    "\n",
    "print(\"N2:\"+str(N2))\n",
    "print(\"N1:\"+str(N1))\n",
    "print(\"N0:\"+str(N0))\n",
    "print(\"D2:\"+str(D2))\n",
    "print(\"D1:\"+str(D1))\n",
    "print(\"D0:\"+str(D0))\n"
   ]
  },
  {
   "cell_type": "code",
   "execution_count": 59,
   "metadata": {},
   "outputs": [],
   "source": [
    "def analize(Omega):\n",
    "\n",
    "  Omega=Omega*1000*2*np.pi\n",
    "  z=np.exp(1j*Omega*T)\n",
    "  Gz=(N2*z**(-2)+N1*z**(-1)+N0)/(D2*z**(-2)+D1*z**(-1)+D0)\n",
    "  y=abs(Gz)\n",
    "\n",
    "  return y"
   ]
  },
  {
   "cell_type": "code",
   "execution_count": 70,
   "metadata": {},
   "outputs": [
    {
     "name": "stdout",
     "output_type": "stream",
     "text": [
      "40\n",
      "[0.49990933 0.49961578 0.49904435 0.49802623 0.49618795 0.49262683\n",
      " 0.48478315 0.46336163 0.38019505 0.05       0.36725965 0.45137986\n",
      " 0.47554813 0.48534549 0.49026043 0.49308505 0.49486605 0.49606649\n",
      " 0.49691707 0.49754347 0.49801904 0.49838903 0.49868265 0.49891947\n",
      " 0.49911301 0.49927288 0.49940604 0.49951766 0.49961163 0.49969092\n",
      " 0.49975781 0.4998141  0.49986119 0.49990016 0.49993189 0.49995703\n",
      " 0.49997609 0.49998946 0.49999738 0.5       ]\n"
     ]
    }
   ],
   "source": [
    "x=np.arange(0.1,4.1,0.1)\n",
    "y=np.vectorize(analize)(x)\n",
    "print(len(y))\n",
    "print(y*0.5)"
   ]
  },
  {
   "cell_type": "code",
   "execution_count": 71,
   "metadata": {},
   "outputs": [
    {
     "data": {
      "image/png": "[encoded data removed]",
      "text/plain": [
       "<Figure size 640x480 with 1 Axes>"
      ]
     },
     "metadata": {},
     "output_type": "display_data"
    }
   ],
   "source": [
    "plt.scatter(x,y*0.5)\n",
    "plt.grid()\n",
    "plt.xlabel(\"[kHz]\")\n",
    "plt.show()"
   ]
  },
  {
   "cell_type": "code",
   "execution_count": 72,
   "metadata": {},
   "outputs": [],
   "source": [
    "df=pd.DataFrame(y*0.5)"
   ]
  },
  {
   "cell_type": "code",
   "execution_count": 63,
   "metadata": {},
   "outputs": [],
   "source": [
    "df.to_csv(\"notch.csv\",header=None,index=None)"
   ]
  },
  {
   "cell_type": "code",
   "execution_count": null,
   "metadata": {},
   "outputs": [],
   "source": []
  }
 ],
 "metadata": {
  "kernelspec": {
   "display_name": "Python 3",
   "language": "python",
   "name": "python3"
  },
  "language_info": {
   "codemirror_mode": {
    "name": "ipython",
    "version": 3
   },
   "file_extension": ".py",
   "mimetype": "text/x-python",
   "name": "python",
   "nbconvert_exporter": "python",
   "pygments_lexer": "ipython3",
   "version": "3.11.3"
  },
  "orig_nbformat": 4
 },
 "nbformat": 4,
 "nbformat_minor": 2
}
